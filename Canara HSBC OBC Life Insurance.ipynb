{
 "cells": [
  {
   "cell_type": "code",
   "execution_count": 2,
   "metadata": {},
   "outputs": [
    {
     "name": "stdout",
     "output_type": "stream",
     "text": [
      "1\n",
    },
    {
     "ename": "NoSuchElementException",
     "evalue": "Message: no such element: Unable to locate element: {\"method\":\"xpath\",\"selector\":\"/html/body/div[5]/div/div/section[2]/div[2]/div[6]/div/div[2]/div[2]/div/div/div[14]/div/div[2]/a\"}\n  (Session info: chrome=119.0.6045.160); For documentation on this error, please visit: https://www.selenium.dev/documentation/webdriver/troubleshooting/errors#no-such-element-exception\nStacktrace:\n\tGetHandleVerifier [0x00007FF705C182B2+55298]\n\t(No symbol) [0x00007FF705B85E02]\n\t(No symbol) [0x00007FF705A405AB]\n\t(No symbol) [0x00007FF705A8175C]\n\t(No symbol) [0x00007FF705A818DC]\n\t(No symbol) [0x00007FF705ABCBC7]\n\t(No symbol) [0x00007FF705AA20EF]\n\t(No symbol) [0x00007FF705ABAAA4]\n\t(No symbol) [0x00007FF705AA1E83]\n\t(No symbol) [0x00007FF705A7670A]\n\t(No symbol) [0x00007FF705A77964]\n\tGetHandleVerifier [0x00007FF705F90AAB+3694587]\n\tGetHandleVerifier [0x00007FF705FE728E+4048862]\n\tGetHandleVerifier [0x00007FF705FDF173+4015811]\n\tGetHandleVerifier [0x00007FF705CB47D6+695590]\n\t(No symbol) [0x00007FF705B90CE8]\n\t(No symbol) [0x00007FF705B8CF34]\n\t(No symbol) [0x00007FF705B8D062]\n\t(No symbol) [0x00007FF705B7D3A3]\n\tBaseThreadInitThunk [0x00007FF9F39C7614+20]\n\tRtlUserThreadStart [0x00007FF9F57A26B1+33]\n",
     "output_type": "error",
     "traceback": [
      "\u001b[1;31m---------------------------------------------------------------------------\u001b[0m",
      "\u001b[1;31mNoSuchElementException\u001b[0m                    Traceback (most recent call last)",
      "\u001b[1;32mc:\\Users\\Avinash.Patil\\OneDrive - Cogencis Information Services Ltd\\Desktop\\PUBLIC DISCLOSURE HIS CODE\\Canara Insurance.ipynb Cell 1\u001b[0m line \u001b[0;36m4\n\u001b[0;32m     <a href='vscode-notebook-cell:/c%3A/Users/Avinash.Patil/OneDrive%20-%20Cogencis%20Information%20Services%20Ltd/Desktop/PUBLIC%20DISCLOSURE%20HIS%20CODE/Canara%20Insurance.ipynb#W1sZmlsZQ%3D%3D?line=40'>41</a>\u001b[0m \u001b[39mfor\u001b[39;00m i \u001b[39min\u001b[39;00m \u001b[39mrange\u001b[39m(\u001b[39m1\u001b[39m,\u001b[39m4\u001b[39m):\n\u001b[0;32m     <a href='vscode-notebook-cell:/c%3A/Users/Avinash.Patil/OneDrive%20-%20Cogencis%20Information%20Services%20Ltd/Desktop/PUBLIC%20DISCLOSURE%20HIS%20CODE/Canara%20Insurance.ipynb#W1sZmlsZQ%3D%3D?line=42'>43</a>\u001b[0m     k\u001b[39m=\u001b[39m\u001b[39mf\u001b[39m\u001b[39m\"\u001b[39m\u001b[39m/html/body/div[5]/div/div/section[2]/div[2]/div[6]/div/div[2]/div[2]/div/div/div[\u001b[39m\u001b[39m{\u001b[39;00mn\u001b[39m}\u001b[39;00m\u001b[39m]/div/div[\u001b[39m\u001b[39m{\u001b[39;00mi\u001b[39m}\u001b[39;00m\u001b[39m]/a\u001b[39m\u001b[39m\"\u001b[39m  \u001b[39m# some quater in side many files are available to use this link //4th div are year sequence enter//5th div are quater sequence enter\u001b[39;00m\n\u001b[1;32m---> <a href='vscode-notebook-cell:/c%3A/Users/Avinash.Patil/OneDrive%20-%20Cogencis%20Information%20Services%20Ltd/Desktop/PUBLIC%20DISCLOSURE%20HIS%20CODE/Canara%20Insurance.ipynb#W1sZmlsZQ%3D%3D?line=43'>44</a>\u001b[0m     pdf\u001b[39m=\u001b[39mdriver\u001b[39m.\u001b[39;49mfind_element(By\u001b[39m.\u001b[39;49mXPATH,k)\u001b[39m.\u001b[39mget_attribute(\u001b[39m'\u001b[39m\u001b[39mhref\u001b[39m\u001b[39m'\u001b[39m)\n\u001b[0;32m     <a href='vscode-notebook-cell:/c%3A/Users/Avinash.Patil/OneDrive%20-%20Cogencis%20Information%20Services%20Ltd/Desktop/PUBLIC%20DISCLOSURE%20HIS%20CODE/Canara%20Insurance.ipynb#W1sZmlsZQ%3D%3D?line=44'>45</a>\u001b[0m     file_name \u001b[39m=\u001b[39m pdf\u001b[39m.\u001b[39msplit(\u001b[39m\"\u001b[39m\u001b[39m/\u001b[39m\u001b[39m\"\u001b[39m)[\u001b[39m-\u001b[39m\u001b[39m1\u001b[39m]\n\u001b[0;32m     <a href='vscode-notebook-cell:/c%3A/Users/Avinash.Patil/OneDrive%20-%20Cogencis%20Information%20Services%20Ltd/Desktop/PUBLIC%20DISCLOSURE%20HIS%20CODE/Canara%20Insurance.ipynb#W1sZmlsZQ%3D%3D?line=46'>47</a>\u001b[0m     \u001b[39m# Download the file only if it doesn't exist\u001b[39;00m\n",
      "File \u001b[1;32m~\\AppData\\Roaming\\Python\\Python311\\site-packages\\selenium\\webdriver\\remote\\webdriver.py:739\u001b[0m, in \u001b[0;36mWebDriver.find_element\u001b[1;34m(self, by, value)\u001b[0m\n\u001b[0;32m    736\u001b[0m     by \u001b[39m=\u001b[39m By\u001b[39m.\u001b[39mCSS_SELECTOR\n\u001b[0;32m    737\u001b[0m     value \u001b[39m=\u001b[39m \u001b[39mf\u001b[39m\u001b[39m'\u001b[39m\u001b[39m[name=\u001b[39m\u001b[39m\"\u001b[39m\u001b[39m{\u001b[39;00mvalue\u001b[39m}\u001b[39;00m\u001b[39m\"\u001b[39m\u001b[39m]\u001b[39m\u001b[39m'\u001b[39m\n\u001b[1;32m--> 739\u001b[0m \u001b[39mreturn\u001b[39;00m \u001b[39mself\u001b[39;49m\u001b[39m.\u001b[39;49mexecute(Command\u001b[39m.\u001b[39;49mFIND_ELEMENT, {\u001b[39m\"\u001b[39;49m\u001b[39musing\u001b[39;49m\u001b[39m\"\u001b[39;49m: by, \u001b[39m\"\u001b[39;49m\u001b[39mvalue\u001b[39;49m\u001b[39m\"\u001b[39;49m: value})[\u001b[39m\"\u001b[39m\u001b[39mvalue\u001b[39m\u001b[39m\"\u001b[39m]\n",
      "File \u001b[1;32m~\\AppData\\Roaming\\Python\\Python311\\site-packages\\selenium\\webdriver\\remote\\webdriver.py:345\u001b[0m, in \u001b[0;36mWebDriver.execute\u001b[1;34m(self, driver_command, params)\u001b[0m\n\u001b[0;32m    343\u001b[0m response \u001b[39m=\u001b[39m \u001b[39mself\u001b[39m\u001b[39m.\u001b[39mcommand_executor\u001b[39m.\u001b[39mexecute(driver_command, params)\n\u001b[0;32m    344\u001b[0m \u001b[39mif\u001b[39;00m response:\n\u001b[1;32m--> 345\u001b[0m     \u001b[39mself\u001b[39;49m\u001b[39m.\u001b[39;49merror_handler\u001b[39m.\u001b[39;49mcheck_response(response)\n\u001b[0;32m    346\u001b[0m     response[\u001b[39m\"\u001b[39m\u001b[39mvalue\u001b[39m\u001b[39m\"\u001b[39m] \u001b[39m=\u001b[39m \u001b[39mself\u001b[39m\u001b[39m.\u001b[39m_unwrap_value(response\u001b[39m.\u001b[39mget(\u001b[39m\"\u001b[39m\u001b[39mvalue\u001b[39m\u001b[39m\"\u001b[39m, \u001b[39mNone\u001b[39;00m))\n\u001b[0;32m    347\u001b[0m     \u001b[39mreturn\u001b[39;00m response\n",
      "File \u001b[1;32m~\\AppData\\Roaming\\Python\\Python311\\site-packages\\selenium\\webdriver\\remote\\errorhandler.py:229\u001b[0m, in \u001b[0;36mErrorHandler.check_response\u001b[1;34m(self, response)\u001b[0m\n\u001b[0;32m    227\u001b[0m         alert_text \u001b[39m=\u001b[39m value[\u001b[39m\"\u001b[39m\u001b[39malert\u001b[39m\u001b[39m\"\u001b[39m]\u001b[39m.\u001b[39mget(\u001b[39m\"\u001b[39m\u001b[39mtext\u001b[39m\u001b[39m\"\u001b[39m)\n\u001b[0;32m    228\u001b[0m     \u001b[39mraise\u001b[39;00m exception_class(message, screen, stacktrace, alert_text)  \u001b[39m# type: ignore[call-arg]  # mypy is not smart enough here\u001b[39;00m\n\u001b[1;32m--> 229\u001b[0m \u001b[39mraise\u001b[39;00m exception_class(message, screen, stacktrace)\n",
      "\u001b[1;31mNoSuchElementException\u001b[0m: Message: no such element: Unable to locate element: {\"method\":\"xpath\",\"selector\":\"/html/body/div[5]/div/div/section[2]/div[2]/div[6]/div/div[2]/div[2]/div/div/div[14]/div/div[2]/a\"}\n  (Session info: chrome=119.0.6045.160); For documentation on this error, please visit: https://www.selenium.dev/documentation/webdriver/troubleshooting/errors#no-such-element-exception\nStacktrace:\n\tGetHandleVerifier [0x00007FF705C182B2+55298]\n\t(No symbol) [0x00007FF705B85E02]\n\t(No symbol) [0x00007FF705A405AB]\n\t(No symbol) [0x00007FF705A8175C]\n\t(No symbol) [0x00007FF705A818DC]\n\t(No symbol) [0x00007FF705ABCBC7]\n\t(No symbol) [0x00007FF705AA20EF]\n\t(No symbol) [0x00007FF705ABAAA4]\n\t(No symbol) [0x00007FF705AA1E83]\n\t(No symbol) [0x00007FF705A7670A]\n\t(No symbol) [0x00007FF705A77964]\n\tGetHandleVerifier [0x00007FF705F90AAB+3694587]\n\tGetHandleVerifier [0x00007FF705FE728E+4048862]\n\tGetHandleVerifier [0x00007FF705FDF173+4015811]\n\tGetHandleVerifier [0x00007FF705CB47D6+695590]\n\t(No symbol) [0x00007FF705B90CE8]\n\t(No symbol) [0x00007FF705B8CF34]\n\t(No symbol) [0x00007FF705B8D062]\n\t(No symbol) [0x00007FF705B7D3A3]\n\tBaseThreadInitThunk [0x00007FF9F39C7614+20]\n\tRtlUserThreadStart [0x00007FF9F57A26B1+33]\n"
     ]
    }
   ],
   "source": [
    "import requests\n",
    "from bs4 import BeautifulStoneSoup\n",
    "import time\n",
    "from selenium.webdriver.chrome.service import Service\n",
    "from webdriver_manager.chrome import ChromeDriverManager\n",
    "from selenium.webdriver.chrome.options import Options\n",
    "from selenium import webdriver\n",
    "from selenium.webdriver.common.by import By\n",
    "from selenium.webdriver.chrome.options import Options\n",
    "from bs4 import BeautifulSoup\n",
    "import requests\n",
    "import os\n",
    "download_path=r\"C:\\Users\\Avinash.Patil\\OneDrive - Cogencis Information Services Ltd\\Desktop\\ALL INSURANCE HIS_DATA\\Canara HSBC OBC Life Insurance\\2018-19\\Q2\"\n",
    "chrome_option = Options()\n",
    "chrome_option.add_experimental_option('prefs', {\n",
    "                'download.default_directory': download_path,\n",
    "                'download.prompt_for_download': False,\n",
    "                'download.directory_upgrade': True,\n",
    "                'safebrowsing.enabled': True\n",
    "            })\n",
    " \n",
    "driver = webdriver.Chrome(options=chrome_option)\n",
    "\n",
    "\n",
    "url = \"https://www.canarahsbclife.com/public-disclosures\"\n",
    "driver.get(url)\n",
    "driver.maximize_window()\n",
    "#click on year box\n",
    "driver.find_element(By.ID,value=\"ddlLanguage\").click()\n",
    "time.sleep(2)\n",
    "# select Year \n",
    "driver.find_element(By.XPATH,\"/html/body/div[5]/div/div/section[2]/div[1]/select/option[6]\").click()  # Every Time Change Year Sequence Number \n",
    "time.sleep(2)\n",
    "#select Quater \n",
    "driver.find_element(By.XPATH,\"/html/body/div[5]/div/div/section[2]/div[2]/div[6]/div/div[2]/div[1]/h5/a\").click()  # quater select div second last 1,2,3,4 Change Quater Every Time after div[1] / 4th div are year sequence enter comeplsory\n",
    "time.sleep(2)\n",
    "    \n",
    "for n in range(1,15):\n",
    "    print(n)\n",
    "    # l=f\"/html/body/div[5]/div/div/section[2]/div[2]/div[3]/div/div[{n}]/div[2]/div/div/div/div/div/a\" # 4th div are year sequence enter\n",
    "    for i in range(1,4):\n",
    "        \n",
    "        k=f\"/html/body/div[5]/div/div/section[2]/div[2]/div[6]/div/div[2]/div[2]/div/div/div[{n}]/div/div[{i}]/a\"  # some quater in side many files are available to use this link //4th div are year sequence enter//5th div are quater sequence enter\n",
    "        pdf=driver.find_element(By.XPATH,k).get_attribute('href')\n",
    "        file_name = pdf.split(\"/\")[-1]\n",
    "        \n",
    "        # Download the file only if it doesn't exist\n",
    "        local_file_path = os.path.join(download_path, file_name)\n",
    "        if not os.path.exists(local_file_path):\n",
    "            response = requests.get(pdf)\n",
    "            if response.status_code == 200:\n",
    "                with open(local_file_path, \"wb\") as file:\n",
    "                    file.write(response.content)\n",
    "                print(f\"Download successful. File saved at: {local_file_path}\")\n",
    "            else:\n",
    "                print(f\"Failed to download. Status code: {response.status_code}\")\n",
    "        else:\n",
    "            print(f\"File already exists. Skipping download.\")\n"
   ]
  },
  {
   "cell_type": "code",
   "execution_count": null,
   "metadata": {},
   "outputs": [],
   "source": []
  }
 ],
 "metadata": {
  "kernelspec": {
   "display_name": "Python 3",
   "language": "python",
   "name": "python3"
  },
  "language_info": {
   "codemirror_mode": {
    "name": "ipython",
    "version": 3
   },
   "file_extension": ".py",
   "mimetype": "text/x-python",
   "name": "python",
   "nbconvert_exporter": "python",
   "pygments_lexer": "ipython3",
   "version": "3.11.4"
  }
 },
 "nbformat": 4,
 "nbformat_minor": 2
}
