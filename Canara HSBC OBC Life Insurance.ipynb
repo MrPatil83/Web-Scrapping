{
 "cells": [
  {
   "cell_type": "code",
   "execution_count": null,
   "metadata": {},
   "outputs": [],
   "source": [
    "import requests\n",
    "from bs4 import BeautifulStoneSoup\n",
    "import time\n",
    "from selenium.webdriver.chrome.service import Service\n",
    "from webdriver_manager.chrome import ChromeDriverManager\n",
    "from selenium.webdriver.chrome.options import Options\n",
    "from selenium import webdriver\n",
    "from selenium.webdriver.common.by import By\n",
    "from selenium.webdriver.chrome.options import Options\n",
    "from bs4 import BeautifulSoup\n",
    "import requests\n",
    "import os\n",
    "download_path=r\"C:\\Users\\Avinash.Patil\\OneDrive - Cogencis Information Services Ltd\\Desktop\\ALL INSURANCE HIS_DATA\\Canara HSBC OBC Life Insurance\\2018-19\\Q2\"\n",
    "chrome_option = Options()\n",
    "chrome_option.add_experimental_option('prefs', {\n",
    "                'download.default_directory': download_path,\n",
    "                'download.prompt_for_download': False,\n",
    "                'download.directory_upgrade': True,\n",
    "                'safebrowsing.enabled': True\n",
    "            })\n",
    " \n",
    "driver = webdriver.Chrome(options=chrome_option)\n",
    "\n",
    "\n",
    "url = \"https://www.canarahsbclife.com/public-disclosures\"\n",
    "driver.get(url)\n",
    "driver.maximize_window()\n",
    "#click on year box\n",
    "driver.find_element(By.ID,value=\"ddlLanguage\").click()\n",
    "time.sleep(2)\n",
    "# select Year \n",
    "driver.find_element(By.XPATH,\"/html/body/div[5]/div/div/section[2]/div[1]/select/option[6]\").click()  # Every Time Change Year Sequence Number \n",
    "time.sleep(2)\n",
    "#select Quater \n",
    "driver.find_element(By.XPATH,\"/html/body/div[5]/div/div/section[2]/div[2]/div[6]/div/div[2]/div[1]/h5/a\").click()  # quater select div second last 1,2,3,4 Change Quater Every Time after div[1] / 4th div are year sequence enter comeplsory\n",
    "time.sleep(2)\n",
    "    \n",
    "for n in range(1,15):\n",
    "    print(n)\n",
    "    # l=f\"/html/body/div[5]/div/div/section[2]/div[2]/div[3]/div/div[{n}]/div[2]/div/div/div/div/div/a\" # 4th div are year sequence enter\n",
    "    for i in range(1,4):\n",
    "        \n",
    "        k=f\"/html/body/div[5]/div/div/section[2]/div[2]/div[6]/div/div[2]/div[2]/div/div/div[{n}]/div/div[{i}]/a\"  # some quater in side many files are available to use this link //4th div are year sequence enter//5th div are quater sequence enter\n",
    "        pdf=driver.find_element(By.XPATH,k).get_attribute('href')\n",
    "        file_name = pdf.split(\"/\")[-1]\n",
    "        \n",
    "        # Download the file only if it doesn't exist\n",
    "        local_file_path = os.path.join(download_path, file_name)\n",
    "        if not os.path.exists(local_file_path):\n",
    "            response = requests.get(pdf)\n",
    "            if response.status_code == 200:\n",
    "                with open(local_file_path, \"wb\") as file:\n",
    "                    file.write(response.content)\n",
    "                print(f\"Download successful. File saved at: {local_file_path}\")\n",
    "            else:\n",
    "                print(f\"Failed to download. Status code: {response.status_code}\")\n",
    "        else:\n",
    "            print(f\"File already exists. Skipping download.\")\n"
   ]
  },
  {
   "cell_type": "code",
   "execution_count": null,
   "metadata": {},
   "outputs": [],
   "source": []
  }
 ],
 "metadata": {
  "kernelspec": {
   "display_name": "Python 3",
   "language": "python",
   "name": "python3"
  },
  "language_info": {
   "codemirror_mode": {
    "name": "ipython",
    "version": 3
   },
   "file_extension": ".py",
   "mimetype": "text/x-python",
   "name": "python",
   "nbconvert_exporter": "python",
   "pygments_lexer": "ipython3",
   "version": "3.11.4"
  }
 },
 "nbformat": 4,
 "nbformat_minor": 2
}
