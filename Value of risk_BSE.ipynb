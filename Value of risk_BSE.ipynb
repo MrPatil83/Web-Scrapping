{
 "cells": [
  {
   "cell_type": "code",
   "execution_count": null,
   "metadata": {},
   "outputs": [],
   "source": [
    "from selenium import webdriver\n",
    "driver = webdriver.Chrome()\n",
    "a=['01','02','03','04','05','06','07']\n",
    "b=['08']\n",
    "c=['23']\n",
    "for i in b:\n",
    "    d=\"https://www.bseindia.com/BSEDATA/margins/VAR\" + str(i)+ \".zip\"\n",
    "    for x in c:\n",
    "        h=\"https://www.bseindia.com/BSEDATA/margins/VAR\" + x+ \".zip\"\n",
    "    for j in a:\n",
    "        f=\"https://www.bseindia.com/BSEDATA/margins/VAR\" + j+str(i)+x+ \".zip\"\n",
    "        print(f)\n",
    "        driver.get(f)"
   ]
  }
 ],
 "metadata": {
  "language_info": {
   "name": "python"
  },
  "orig_nbformat": 4
 },
 "nbformat": 4,
 "nbformat_minor": 2
}
