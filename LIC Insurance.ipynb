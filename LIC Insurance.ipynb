{
 "cells": [
  {
   "cell_type": "code",
   "execution_count": null,
   "metadata": {},
   "outputs": [],
   "source": [
    "import re\n",
    "import requests\n",
    "import time\n",
    "from selenium import webdriver\n",
    "from selenium.webdriver.common.by import By\n",
    "from selenium.webdriver.chrome.options import Options\n",
    "import os\n",
    "\n",
    "download_path = r\"C:\\Users\\Avinash.Patil\\OneDrive - Cogencis Information Services Ltd\\Desktop\\ALL INSURANCE HIS_DATA\\Life Insurance Corporation of India\\2010-11\\Q1\"\n",
    "\n",
    "chrome_options = Options()\n",
    "chrome_options.add_experimental_option('prefs', {\n",
    "    'download.default_directory': download_path,\n",
    "    'download.prompt_for_download': False,\n",
    "    'download.directory_upgrade': True,\n",
    "    'safebrowsing.enabled': True\n",
    "})\n",
    "\n",
    "driver = webdriver.Chrome(options=chrome_options)\n",
    "\n",
    "url = \"https://www.licindia.in/Bottom-Links/Public-disclosure\"\n",
    "driver.get(url)\n",
    "driver.maximize_window()\n",
    "\n",
    "# Click on the year box = last li[__]/a enter square in value you have year sequence ex- 2023-24= 1,2,3....\n",
    "driver.find_element(By.XPATH, \"/html/body/div[1]/div[1]/section[1]/div/div[2]/div/div/div/div/div/div/section/div/div[2]/div/div/div/div/div/div/div[2]/div/ul/li[___]/a\").click()\n",
    "                               \n",
    "time.sleep(2)\n",
    "\n",
    "# Select the quarter year 4,3,2,1 - 1=Q4, 2=Q3, 3=Q2, 4=Q1 - last li[__]/a enter square in value you have quater no\n",
    "driver.find_element(By.XPATH, \"/html/body/div[1]/div[1]/section[1]/div/div[2]/div/div/div/div/div/div/section/div/div[2]/div/div/div/div/div/div/div[2]/div/ul/li[___]/a\").click()\n",
    "\n",
    "time.sleep(2)\n",
    "\n",
    "for n in range(1, 50):\n",
    "    link_xpath = f\"/html/body/div[1]/div[1]/section[1]/div/div[2]/div/div/div/div/div/div/section/div/div[2]/div/div/div/div/div/div/div[2]/div/div[1]/table/tbody/tr[{n}]/td[2]/strong/a\"\n",
    "    pdf_link = driver.find_element(By.XPATH, link_xpath).get_attribute('href')\n",
    "    pdf=pdf_link.split('/')[::]\n",
    "    # print(pdf)\n",
    "    final_pdf='/'.join(pdf[:-1])\n",
    "    print(final_pdf)\n",
    "    file_name = final_pdf.split(\"/\")[-1]\n",
    "    # print(pdf_link)\n",
    "    \n",
    "    \n",
    "    local_file_path = os.path.join(download_path, file_name)\n",
    "    if not os.path.exists(local_file_path):\n",
    "            response = requests.get(final_pdf)\n",
    "            if response.status_code == 200:\n",
    "                with open(local_file_path, \"wb\") as file:\n",
    "                    file.write(response.content)\n",
    "                print(f\"Download successful. File saved at: {local_file_path}\")\n",
    "            else:\n",
    "                print(f\"Failed to download. Status code: {response.status_code}\")\n",
    "    else:\n",
    "            print(f\"File already exists. Skipping download.\")\n"
   ]
  },
  {
   "cell_type": "code",
   "execution_count": null,
   "metadata": {},
   "outputs": [],
   "source": []
  }
 ],
 "metadata": {
  "kernelspec": {
   "display_name": "Python 3",
   "language": "python",
   "name": "python3"
  },
  "language_info": {
   "codemirror_mode": {
    "name": "ipython",
    "version": 3
   },
   "file_extension": ".py",
   "mimetype": "text/x-python",
   "name": "python",
   "nbconvert_exporter": "python",
   "pygments_lexer": "ipython3",
   "version": "3.11.4"
  }
 },
 "nbformat": 4,
 "nbformat_minor": 2
}
