{
 "cells": [
  {
   "cell_type": "code",
   "execution_count": 7,
   "metadata": {},
   "outputs": [
    {
     "name": "stdout",
     "output_type": "stream",
     "text": [
      "https://www.maxlifeinsurance.com/content/dam/corporate/public-disclosures/2022-23/Q3-FY-22-23/Public_Disclosure_Dec_22.pdf\n"
     ]
    }
   ],
   "source": [
    "import requests\n",
    "from bs4 import BeautifulStoneSoup\n",
    "import time\n",
    "from selenium.webdriver.chrome.service import Service\n",
    "from webdriver_manager.chrome import ChromeDriverManager\n",
    "from selenium.webdriver.chrome.options import Options\n",
    "from selenium import webdriver\n",
    "from selenium.webdriver.common.by import By\n",
    "from selenium.webdriver.chrome.options import Options\n",
    "from bs4 import BeautifulSoup\n",
    "import requests\n",
    "download_path=r\"C:\\Users\\Avinash.Patil\\OneDrive - Cogencis Information Services Ltd\\Desktop\\ALL INSURANCE HIS_DATA\\Ageas insurance\"\n",
    "chrome_option = Options()\n",
    "chrome_option.add_experimental_option('prefs', {\n",
    "                'download.default_directory': download_path,\n",
    "                'download.prompt_for_download': False,\n",
    "                'download.directory_upgrade': True,\n",
    "                'safebrowsing.enabled': True\n",
    "            })\n",
    " \n",
    "driver = webdriver.Chrome(options=chrome_option)\n",
    "\n",
    "\n",
    "url = \"https://www.maxlifeinsurance.com/newsroom/public-disclosures\"\n",
    "driver.get(url)\n",
    "driver.maximize_window()\n",
    "#click on year box\n",
    "driver.find_element(By.XPATH,\"/html/body/div[3]/div[2]/div/div[2]/div/div/div/div/div/div[3]/div/div/div[1]/div/div/div/div/section/table/tbody/tr/td[1]/div/div/button/span[2]\").click()\n",
    "time.sleep(2)\n",
    "#select year list number(start year column 2)\n",
    "driver.find_element(By.XPATH,\"/html/body/div[3]/div[2]/div/div[2]/div/div/div/div/div/div[3]/div/div/div[1]/div/div/div/div/section/table/tbody/tr[1]/td[1]/div/div/ul/li[2]\").click()####change\n",
    "time.sleep(2)\n",
    "# # #click month box\n",
    "driver.find_element(By.XPATH,\"/html/body/div[3]/div[2]/div/div[2]/div/div/div/div/div/div[3]/div/div/div[1]/div/div/div/div/section/table/tbody/tr[1]/td[2]/div/div/button/span[1]\").click()\n",
    "time.sleep(2)\n",
    "# # #select Quater Month(start month 1,2,3,4,)\n",
    "driver.find_element(By.XPATH,\"/html/body/div[3]/div[2]/div/div[2]/div/div/div/div/div/div[3]/div/div/div[1]/div/div/div/div/section/table/tbody/tr/td[2]/div/div/ul/li[3]\").click()###change\n",
    "time.sleep(2)\n",
    "# #click to download\n",
    "# for n in range(1,5):\n",
    "l=f\"/html/body/div[3]/div[2]/div/div[2]/div/div/div/div/div/div[3]/div/div/div[1]/div/div/div/div/section/table/tr[1]/td[3]/a\"\n",
    "pdf=driver.find_element(By.XPATH,l).get_attribute('href')\n",
    "print(pdf)\n",
    "time.sleep(2)\n",
    "#ddd\n",
    "\n",
    "\n",
    "      \n",
    "# get_attribute('href')\n",
    "  \n"
   ]
  },
  {
   "cell_type": "code",
   "execution_count": null,
   "metadata": {},
   "outputs": [],
   "source": []
  }
 ],
 "metadata": {
  "kernelspec": {
   "display_name": "Python 3",
   "language": "python",
   "name": "python3"
  },
  "language_info": {
   "codemirror_mode": {
    "name": "ipython",
    "version": 3
   },
   "file_extension": ".py",
   "mimetype": "text/x-python",
   "name": "python",
   "nbconvert_exporter": "python",
   "pygments_lexer": "ipython3",
   "version": "3.11.4"
  }
 },
 "nbformat": 4,
 "nbformat_minor": 2
}
