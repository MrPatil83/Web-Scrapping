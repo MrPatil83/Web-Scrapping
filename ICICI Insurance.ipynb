{
 "cells": [
  {
   "cell_type": "code",
   "execution_count": null,
   "metadata": {},
   "outputs": [],
   "source": [
    "import re\n",
    "import requests\n",
    "import time\n",
    "from selenium import webdriver\n",
    "from selenium.webdriver.common.by import By\n",
    "from selenium.webdriver.chrome.options import Options\n",
    "import os\n",
    "#enter yor path\n",
    "download_path = r\"C:\\Users\\Avinash.Patil\\OneDrive - Cogencis Information Services Ltd\\Desktop\\ALL INSURANCE HIS_DATA\\ICICI Insurance\\2010-11\\Q4\"\n",
    "\n",
    "chrome_options = Options()\n",
    "chrome_options.add_experimental_option('prefs', {\n",
    "    'download.default_directory': download_path,\n",
    "    'download.prompt_for_download': False,\n",
    "    'download.directory_upgrade': True,\n",
    "    'safebrowsing.enabled': True\n",
    "})\n",
    "\n",
    "driver = webdriver.Chrome(options=chrome_options)\n",
    "\n",
    "url = \"https://www.iciciprulife.com/about-us/investor-relations/yearly-public-disclosures.html?ID=about3\"\n",
    "driver.get(url)\n",
    "driver.maximize_window()\n",
    "driver.find_element(By.XPATH,\"/html/body/main/section/div/div/div[2]/div/div[2]/div[1]/div[1]/select\").click()\n",
    "time.sleep(2)\n",
    "#select year enter year sequence last option [1,2,3.....]\n",
    "driver.find_element(By.XPATH,\"/html/body/main/section/div/div/div[2]/div/div[2]/div[1]/div[1]/select/option[14]\").click()\n",
    "time.sleep(2)\n",
    "#select quater box\n",
    "driver.find_element(By.XPATH,\"/html/body/main/section/div/div/div[2]/div/div[2]/div[1]/div[2]/select\").click()\n",
    "time.sleep(2)\n",
    "#select Quater  enter value last option [2,3,4,5]\n",
    "driver.find_element(By.XPATH,\"/html/body/main/section/div/div/div[2]/div/div[2]/div[1]/div[2]/select/option[5]\").click()\n",
    "time.sleep(2)\n",
    "for n in range(1,44):\n",
    "    # 3rd div enter quater wise ex 1,2,3,4 then new year and 1st quater ex 6,7,8,9   = year change increament last quater value\n",
    "    l=f\"/html/body/main/section/div/div/div[2]/div/div[2]/div[71]/div/div[2]/div/div/div[1]/ul/li[{n}]/a\"\n",
    "    pdf=driver.find_element(By.XPATH,l).get_attribute('href')\n",
    "    file_name = pdf.split(\"/\")[-1]\n",
    "\n",
    "    # Download the file only if it doesn't exist\n",
    "    local_file_path = os.path.join(download_path, file_name)\n",
    "    if not os.path.exists(local_file_path):\n",
    "        response = requests.get(pdf)\n",
    "        if response.status_code == 200:\n",
    "            with open(local_file_path, \"wb\") as file:\n",
    "                file.write(response.content)\n",
    "            print(f\"Download successful. File saved at: {local_file_path}\")\n",
    "        else:\n",
    "            print(f\"Failed to download. Status code: {response.status_code}\")\n",
    "    else:\n",
    "        print(f\"File already exists. Skipping download.\")\n",
    "    # print(pdf)\n",
    "\n"
   ]
  }
 ],
 "metadata": {
  "kernelspec": {
   "display_name": "Python 3",
   "language": "python",
   "name": "python3"
  },
  "language_info": {
   "codemirror_mode": {
    "name": "ipython",
    "version": 3
   },
   "file_extension": ".py",
   "mimetype": "text/x-python",
   "name": "python",
   "nbconvert_exporter": "python",
   "pygments_lexer": "ipython3",
   "version": "3.11.4"
  }
 },
 "nbformat": 4,
 "nbformat_minor": 2
}
