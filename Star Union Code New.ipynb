{
 "cells": [
  {
   "cell_type": "code",
   "execution_count": 4,
   "metadata": {},
   "outputs": [
    {
     "ename": "NoSuchElementException",
     "evalue": "Message: no such element: Unable to locate element: {\"method\":\"xpath\",\"selector\":\"/html/body/form/div[5]/div/div[4]/span/div[1]/div/div/div/div/div/div[1]/section/div[2]/div/div[2]/div[2]/div/div/table/tbody/tr[3]/td[4]/a\"}\n  (Session info: chrome=119.0.6045.160); For documentation on this error, please visit: https://www.selenium.dev/documentation/webdriver/troubleshooting/errors#no-such-element-exception\nStacktrace:\n\tGetHandleVerifier [0x00007FF6520782B2+55298]\n\t(No symbol) [0x00007FF651FE5E02]\n\t(No symbol) [0x00007FF651EA05AB]\n\t(No symbol) [0x00007FF651EE175C]\n\t(No symbol) [0x00007FF651EE18DC]\n\t(No symbol) [0x00007FF651F1CBC7]\n\t(No symbol) [0x00007FF651F020EF]\n\t(No symbol) [0x00007FF651F1AAA4]\n\t(No symbol) [0x00007FF651F01E83]\n\t(No symbol) [0x00007FF651ED670A]\n\t(No symbol) [0x00007FF651ED7964]\n\tGetHandleVerifier [0x00007FF6523F0AAB+3694587]\n\tGetHandleVerifier [0x00007FF65244728E+4048862]\n\tGetHandleVerifier [0x00007FF65243F173+4015811]\n\tGetHandleVerifier [0x00007FF6521147D6+695590]\n\t(No symbol) [0x00007FF651FF0CE8]\n\t(No symbol) [0x00007FF651FECF34]\n\t(No symbol) [0x00007FF651FED062]\n\t(No symbol) [0x00007FF651FDD3A3]\n\tBaseThreadInitThunk [0x00007FF9F39C7614+20]\n\tRtlUserThreadStart [0x00007FF9F57A26B1+33]\n",
     "output_type": "error",
     "traceback": [
      "\u001b[1;31m---------------------------------------------------------------------------\u001b[0m",
      "\u001b[1;31mNoSuchElementException\u001b[0m                    Traceback (most recent call last)",
      "\u001b[1;32mUntitled-1.ipynb Cell 1\u001b[0m line \u001b[0;36m5\n\u001b[0;32m     <a href='vscode-notebook-cell:Untitled-1.ipynb?jupyter-notebook#W0sdW50aXRsZWQ%3D?line=52'>53</a>\u001b[0m \u001b[39mfor\u001b[39;00m i \u001b[39min\u001b[39;00m \u001b[39mrange\u001b[39m(\u001b[39m1\u001b[39m,\u001b[39m11\u001b[39m):\n\u001b[0;32m     <a href='vscode-notebook-cell:Untitled-1.ipynb?jupyter-notebook#W0sdW50aXRsZWQ%3D?line=53'>54</a>\u001b[0m     l\u001b[39m=\u001b[39m\u001b[39m\"\u001b[39m\u001b[39m/html/body/form/div[5]/div/div[4]/span/div[1]/div/div/div/div/div/div[1]/section/div[2]/div/div[2]/div[2]/div/div/table/tbody/tr[\u001b[39m\u001b[39m\"\u001b[39m\u001b[39m+\u001b[39m\u001b[39mstr\u001b[39m(i)\u001b[39m+\u001b[39m\u001b[39m\"\u001b[39m\u001b[39m]/td[4]/a\u001b[39m\u001b[39m\"\u001b[39m\n\u001b[1;32m---> <a href='vscode-notebook-cell:Untitled-1.ipynb?jupyter-notebook#W0sdW50aXRsZWQ%3D?line=54'>55</a>\u001b[0m     pdf_1\u001b[39m=\u001b[39mdriver\u001b[39m.\u001b[39;49mfind_element(By\u001b[39m.\u001b[39;49mXPATH,l)\u001b[39m.\u001b[39mclick()\n\u001b[0;32m     <a href='vscode-notebook-cell:Untitled-1.ipynb?jupyter-notebook#W0sdW50aXRsZWQ%3D?line=55'>56</a>\u001b[0m     \u001b[39m# print(pdf_1)\u001b[39;00m\n\u001b[0;32m     <a href='vscode-notebook-cell:Untitled-1.ipynb?jupyter-notebook#W0sdW50aXRsZWQ%3D?line=56'>57</a>\u001b[0m     time\u001b[39m.\u001b[39msleep(\u001b[39m1\u001b[39m)\n",
      "File \u001b[1;32m~\\AppData\\Roaming\\Python\\Python311\\site-packages\\selenium\\webdriver\\remote\\webdriver.py:739\u001b[0m, in \u001b[0;36mWebDriver.find_element\u001b[1;34m(self, by, value)\u001b[0m\n\u001b[0;32m    736\u001b[0m     by \u001b[39m=\u001b[39m By\u001b[39m.\u001b[39mCSS_SELECTOR\n\u001b[0;32m    737\u001b[0m     value \u001b[39m=\u001b[39m \u001b[39mf\u001b[39m\u001b[39m'\u001b[39m\u001b[39m[name=\u001b[39m\u001b[39m\"\u001b[39m\u001b[39m{\u001b[39;00mvalue\u001b[39m}\u001b[39;00m\u001b[39m\"\u001b[39m\u001b[39m]\u001b[39m\u001b[39m'\u001b[39m\n\u001b[1;32m--> 739\u001b[0m \u001b[39mreturn\u001b[39;00m \u001b[39mself\u001b[39;49m\u001b[39m.\u001b[39;49mexecute(Command\u001b[39m.\u001b[39;49mFIND_ELEMENT, {\u001b[39m\"\u001b[39;49m\u001b[39musing\u001b[39;49m\u001b[39m\"\u001b[39;49m: by, \u001b[39m\"\u001b[39;49m\u001b[39mvalue\u001b[39;49m\u001b[39m\"\u001b[39;49m: value})[\u001b[39m\"\u001b[39m\u001b[39mvalue\u001b[39m\u001b[39m\"\u001b[39m]\n",
      "File \u001b[1;32m~\\AppData\\Roaming\\Python\\Python311\\site-packages\\selenium\\webdriver\\remote\\webdriver.py:345\u001b[0m, in \u001b[0;36mWebDriver.execute\u001b[1;34m(self, driver_command, params)\u001b[0m\n\u001b[0;32m    343\u001b[0m response \u001b[39m=\u001b[39m \u001b[39mself\u001b[39m\u001b[39m.\u001b[39mcommand_executor\u001b[39m.\u001b[39mexecute(driver_command, params)\n\u001b[0;32m    344\u001b[0m \u001b[39mif\u001b[39;00m response:\n\u001b[1;32m--> 345\u001b[0m     \u001b[39mself\u001b[39;49m\u001b[39m.\u001b[39;49merror_handler\u001b[39m.\u001b[39;49mcheck_response(response)\n\u001b[0;32m    346\u001b[0m     response[\u001b[39m\"\u001b[39m\u001b[39mvalue\u001b[39m\u001b[39m\"\u001b[39m] \u001b[39m=\u001b[39m \u001b[39mself\u001b[39m\u001b[39m.\u001b[39m_unwrap_value(response\u001b[39m.\u001b[39mget(\u001b[39m\"\u001b[39m\u001b[39mvalue\u001b[39m\u001b[39m\"\u001b[39m, \u001b[39mNone\u001b[39;00m))\n\u001b[0;32m    347\u001b[0m     \u001b[39mreturn\u001b[39;00m response\n",
      "File \u001b[1;32m~\\AppData\\Roaming\\Python\\Python311\\site-packages\\selenium\\webdriver\\remote\\errorhandler.py:229\u001b[0m, in \u001b[0;36mErrorHandler.check_response\u001b[1;34m(self, response)\u001b[0m\n\u001b[0;32m    227\u001b[0m         alert_text \u001b[39m=\u001b[39m value[\u001b[39m\"\u001b[39m\u001b[39malert\u001b[39m\u001b[39m\"\u001b[39m]\u001b[39m.\u001b[39mget(\u001b[39m\"\u001b[39m\u001b[39mtext\u001b[39m\u001b[39m\"\u001b[39m)\n\u001b[0;32m    228\u001b[0m     \u001b[39mraise\u001b[39;00m exception_class(message, screen, stacktrace, alert_text)  \u001b[39m# type: ignore[call-arg]  # mypy is not smart enough here\u001b[39;00m\n\u001b[1;32m--> 229\u001b[0m \u001b[39mraise\u001b[39;00m exception_class(message, screen, stacktrace)\n",
      "\u001b[1;31mNoSuchElementException\u001b[0m: Message: no such element: Unable to locate element: {\"method\":\"xpath\",\"selector\":\"/html/body/form/div[5]/div/div[4]/span/div[1]/div/div/div/div/div/div[1]/section/div[2]/div/div[2]/div[2]/div/div/table/tbody/tr[3]/td[4]/a\"}\n  (Session info: chrome=119.0.6045.160); For documentation on this error, please visit: https://www.selenium.dev/documentation/webdriver/troubleshooting/errors#no-such-element-exception\nStacktrace:\n\tGetHandleVerifier [0x00007FF6520782B2+55298]\n\t(No symbol) [0x00007FF651FE5E02]\n\t(No symbol) [0x00007FF651EA05AB]\n\t(No symbol) [0x00007FF651EE175C]\n\t(No symbol) [0x00007FF651EE18DC]\n\t(No symbol) [0x00007FF651F1CBC7]\n\t(No symbol) [0x00007FF651F020EF]\n\t(No symbol) [0x00007FF651F1AAA4]\n\t(No symbol) [0x00007FF651F01E83]\n\t(No symbol) [0x00007FF651ED670A]\n\t(No symbol) [0x00007FF651ED7964]\n\tGetHandleVerifier [0x00007FF6523F0AAB+3694587]\n\tGetHandleVerifier [0x00007FF65244728E+4048862]\n\tGetHandleVerifier [0x00007FF65243F173+4015811]\n\tGetHandleVerifier [0x00007FF6521147D6+695590]\n\t(No symbol) [0x00007FF651FF0CE8]\n\t(No symbol) [0x00007FF651FECF34]\n\t(No symbol) [0x00007FF651FED062]\n\t(No symbol) [0x00007FF651FDD3A3]\n\tBaseThreadInitThunk [0x00007FF9F39C7614+20]\n\tRtlUserThreadStart [0x00007FF9F57A26B1+33]\n"
     ]
    }
   ],
   "source": [
    "import requests\n",
    "from bs4 import BeautifulStoneSoup\n",
    "import time\n",
    "from selenium.webdriver.chrome.service import Service\n",
    "from webdriver_manager.chrome import ChromeDriverManager\n",
    "from selenium.webdriver.chrome.options import Options\n",
    "from selenium import webdriver\n",
    "from selenium.webdriver.common.by import By\n",
    "from selenium.webdriver.chrome.options import Options\n",
    "from bs4 import BeautifulSoup\n",
    "import requests\n",
    "download_path=r\"C:\\Users\\Avinash.Patil\\OneDrive - Cogencis Information Services Ltd\\Desktop\\ALL INSURANCE HIS_DATA\\Starb Union\\2019-20\\Q2\"\n",
    "chrome_option = Options()\n",
    "chrome_option.add_experimental_option('prefs', {\n",
    "                'download.default_directory': download_path,\n",
    "                'download.prompt_for_download': False,\n",
    "                'download.directory_upgrade': True,\n",
    "                'safebrowsing.enabled': True\n",
    "            })\n",
    " \n",
    "driver = webdriver.Chrome(options=chrome_option)\n",
    "\n",
    "\n",
    "url = \"https://www.sudlife.in/public-disclosures\"\n",
    "driver.get(url)\n",
    "driver.maximize_window()\n",
    "driver.find_element(By.XPATH,\"/html/body/form/div[5]/div/div[4]/span/div[1]/div/div/div/div/div/div[1]/section/div[2]/div/div[2]/div[1]/div[1]/div\").click()\n",
    "\n",
    "#data sr.no\n",
    "\n",
    "p=\"/html/body/form/div[5]/div/div[4]/span/div[1]/div/div/div/div/div/div[1]/section/div[2]/div/div[2]/div[1]/div[1]/div/div/ul/li[5]/a\"\n",
    "link=driver.find_element(By.XPATH,p).click()                            \n",
    "    # print(link)\n",
    "time.sleep(2)\n",
    "\n",
    "    # select box quarter\n",
    "driver.find_element(By.XPATH,\"/html/body/form/div[5]/div/div[4]/span/div[1]/div/div/div/div/div/div[1]/section/div[2]/div/div[2]/div[1]/div[2]/div\").click()\n",
    "time.sleep(2)\n",
    "\n",
    "    # select quarter\n",
    "\n",
    "k=\"/html/body/form/div[5]/div/div[4]/span/div[1]/div/div/div/div/div/div[1]/section/div[2]/div/div[2]/div[1]/div[2]/div/div/ul/li[2]/a\"\n",
    "# print(i)\n",
    "web_link=driver.find_element(By.XPATH,k).click()\n",
    "    # print(web_link)\n",
    "time.sleep(3)\n",
    "\n",
    "    # # submit button\n",
    "driver.find_element(By.XPATH,\"/html/body/form/div[5]/div/div[4]/span/div[1]/div/div/div/div/div/div[1]/section/div[2]/div/div[2]/div[1]/div[3]/button\").click()\n",
    "time.sleep(4)\n",
    "\n",
    "while True:\n",
    "    for i in range(1,11):\n",
    "        l=\"/html/body/form/div[5]/div/div[4]/span/div[1]/div/div/div/div/div/div[1]/section/div[2]/div/div[2]/div[2]/div/div/table/tbody/tr[\"+str(i)+\"]/td[4]/a\"\n",
    "        pdf_1=driver.find_element(By.XPATH,l).click()\n",
    "        # print(pdf_1)\n",
    "        time.sleep(1)\n",
    "    next_1=driver.find_element(By.ID,value=\"Public-disc-datarender_next\").click()\n",
    "    time.sleep(2)"
   ]
  },
  {
   "cell_type": "code",
   "execution_count": null,
   "metadata": {},
   "outputs": [],
   "source": []
  }
 ],
 "metadata": {
  "kernelspec": {
   "display_name": "Python 3",
   "language": "python",
   "name": "python3"
  },
  "language_info": {
   "codemirror_mode": {
    "name": "ipython",
    "version": 3
   },
   "file_extension": ".py",
   "mimetype": "text/x-python",
   "name": "python",
   "nbconvert_exporter": "python",
   "pygments_lexer": "ipython3",
   "version": "3.11.4"
  }
 },
 "nbformat": 4,
 "nbformat_minor": 2
}
