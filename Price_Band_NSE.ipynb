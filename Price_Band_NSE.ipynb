{
 "cells": [
  {
   "cell_type": "code",
   "execution_count": null,
   "metadata": {},
   "outputs": [],
   "source": [
    "from selenium import webdriver\n",
    "driver = webdriver.Chrome()\n",
    "a=['01','02','03']\n",
    "b=['08']\n",
    "c=['2023']\n",
    "for i in b:\n",
    "    d=\"https://archives.nseindia.com/content/equities/sec_list_\" + i+ \".csv\"\n",
    "    for x in c:\n",
    "        h=\"https://archives.nseindia.com/content/equities/sec_list_\" + x+ \".csv\"\n",
    "    for j in a:\n",
    "        f=\"https://archives.nseindia.com/content/equities/sec_list_\" + j+i+x+ \".csv\"\n",
    "        print(f)\n",
    "        driver.get(f)"
   ]
  }
 ],
 "metadata": {
  "language_info": {
   "name": "python"
  },
  "orig_nbformat": 4
 },
 "nbformat": 4,
 "nbformat_minor": 2
}
