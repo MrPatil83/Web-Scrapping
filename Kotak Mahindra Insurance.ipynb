{
 "cells": [
  {
   "cell_type": "code",
   "execution_count": null,
   "metadata": {},
   "outputs": [],
   "source": [
    "import requests\n",
    "from bs4 import BeautifulStoneSoup\n",
    "import time\n",
    "from selenium.webdriver.chrome.service import Service\n",
    "from webdriver_manager.chrome import ChromeDriverManager\n",
    "from selenium.webdriver.chrome.options import Options\n",
    "from selenium import webdriver\n",
    "from selenium.webdriver.common.by import By\n",
    "from selenium.webdriver.chrome.options import Options\n",
    "from bs4 import BeautifulSoup\n",
    "import requests\n",
    "import os\n",
    "download_path=r\"C:\\Users\\Avinash.Patil\\OneDrive - Cogencis Information Services Ltd\\Desktop\\ALL INSURANCE HIS_DATA\\Kotak Mahindra Insurance\\2010-11\"\n",
    "chrome_option = Options()\n",
    "chrome_option.add_experimental_option('prefs', {\n",
    "                'download.default_directory': download_path,\n",
    "                'download.prompt_for_download': False,\n",
    "                'download.directory_upgrade': True,\n",
    "                'safebrowsing.enabled': True\n",
    "            })\n",
    " \n",
    "driver = webdriver.Chrome(options=chrome_option)\n",
    "\n",
    "\n",
    "url = \"http://insurance.kotak.com/common/public_disclosure.php\"\n",
    "driver.get(url)\n",
    "driver.maximize_window()\n",
    "#click year box\n",
    "driver.find_element(By.XPATH,\"/html/body/section/article[4]/div/div/div[2]/select\").click()\n",
    "time.sleep(2)\n",
    "#select year enter option [2,3,4,5...] year list sequence start in web backend\n",
    "driver.find_element(By.XPATH,\"/html/body/section/article[4]/div/div/div[2]/select/option[15]\").click()\n",
    "time.sleep(3)\n",
    "#pdf downlading href\n",
    "for n in range(1,5):\n",
    "    l=f\"/html/body/section/article[4]/div/div/div[3]/ul/li[{n}]/div/a\"\n",
    "    pdf=driver.find_element(By.XPATH,l).get_attribute('href')\n",
    "    file_name = pdf.split(\"/\")[-1]\n",
    "\n",
    "    # Download the file only if it doesn't exist\n",
    "    local_file_path = os.path.join(download_path, file_name)\n",
    "    if not os.path.exists(local_file_path):\n",
    "        response = requests.get(pdf)\n",
    "        if response.status_code == 200:\n",
    "            with open(local_file_path, \"wb\") as file:\n",
    "                file.write(response.content)\n",
    "            print(f\"Download successful. File saved at: {local_file_path}\")\n",
    "        else:\n",
    "            print(f\"Failed to download. Status code: {response.status_code}\")\n",
    "    else:\n",
    "        print(f\"File already exists. Skipping download.\")\n",
    "    # print(pdf)"
   ]
  },
  {
   "cell_type": "code",
   "execution_count": null,
   "metadata": {},
   "outputs": [],
   "source": []
  }
 ],
 "metadata": {
  "kernelspec": {
   "display_name": "Python 3",
   "language": "python",
   "name": "python3"
  },
  "language_info": {
   "codemirror_mode": {
    "name": "ipython",
    "version": 3
   },
   "file_extension": ".py",
   "mimetype": "text/x-python",
   "name": "python",
   "nbconvert_exporter": "python",
   "pygments_lexer": "ipython3",
   "version": "3.11.4"
  }
 },
 "nbformat": 4,
 "nbformat_minor": 2
}
